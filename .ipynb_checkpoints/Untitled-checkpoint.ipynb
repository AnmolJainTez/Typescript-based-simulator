{
 "cells": [
  {
   "cell_type": "code",
   "execution_count": 14,
   "id": "2325acf2",
   "metadata": {},
   "outputs": [
    {
     "ename": "SyntaxError",
     "evalue": "invalid syntax (788468833.py, line 1)",
     "output_type": "error",
     "traceback": [
      "\u001b[1;36m  Cell \u001b[1;32mIn[14], line 1\u001b[1;36m\u001b[0m\n\u001b[1;33m    import * as PIXI from 'pixi.js';\u001b[0m\n\u001b[1;37m           ^\u001b[0m\n\u001b[1;31mSyntaxError\u001b[0m\u001b[1;31m:\u001b[0m invalid syntax\n"
     ]
    }
   ],
   "source": [
    "import * as PIXI from 'pixi.js';\n",
    "\n",
    "const app = new PIXI.Application({ width: 800, height: 600, backgroundColor: 0x1099bb });\n",
    "document.body.appendChild(app.view);\n",
    "\n",
    "const trackData = {\n",
    "    \"track\": {\n",
    "        \"radius\": 500.0, \n",
    "        \"straightLength\": 1000.0,  \n",
    "        \"connections\": [\n",
    "            { \"from\": \"S1-M-Q1\", \"to\": \"S4-M-Q1\", \"type\": \"curved\", \"radius\": 500.0 },\n",
    "            { \"from\": \"S4-M-Q1\", \"to\": \"S5-M-Q1\", \"type\": \"straight\", \"length\": 1000.0 },\n",
    "            { \"from\": \"S5-M-Q1\", \"to\": \"S9-M-Q1\", \"type\": \"curved\", \"radius\": 500.0 },\n",
    "            { \"from\": \"S9-M-Q1\", \"to\": \"S10-M-Q1\", \"type\": \"straight\", \"length\": 1000.0 },\n",
    "            { \"from\": \"S10-M-Q1\", \"to\": \"S13-M-Q1\", \"type\": \"curved\", \"radius\": 500.0 },\n",
    "            { \"from\": \"S13-M-Q1\", \"to\": \"S1-M-Q1\", \"type\": \"curved\", \"radius\": 500.0 }\n",
    "        ]\n",
    "    }\n",
    "};\n",
    "\n",
    "const trackContainer = new PIXI.Container();\n",
    "app.stage.addChild(trackContainer);\n",
    "\n",
    "function drawTrack(data) {\n",
    "    trackContainer.removeChildren();\n",
    "    const graphics = new PIXI.Graphics();\n",
    "    graphics.lineStyle(5, 0xffffff);\n",
    "    let x = 400, y = 300;\n",
    "    let angle = 0;\n",
    "    graphics.moveTo(x, y);\n",
    "    \n",
    "    data.track.connections.forEach(segment => {\n",
    "        if (segment.type === \"straight\") {\n",
    "            x += Math.cos(angle) * segment.length;\n",
    "            y += Math.sin(angle) * segment.length;\n",
    "            graphics.lineTo(x, y);\n",
    "        } else if (segment.type === \"curved\") {\n",
    "            const arc = new PIXI.Graphics();\n",
    "            arc.lineStyle(5, 0xffffff);\n",
    "            arc.arc(x, y, segment.radius, angle, angle + Math.PI / 2);\n",
    "            angle += Math.PI / 2;\n",
    "            x += Math.cos(angle) * segment.radius;\n",
    "            y += Math.sin(angle) * segment.radius;\n",
    "            graphics.lineTo(x, y);\n",
    "        }\n",
    "    });\n",
    "    \n",
    "    trackContainer.addChild(graphics);\n",
    "}\n",
    "\n",
    "drawTrack(trackData);\n",
    "\n",
    "// Function to update the track dynamically\n",
    "function updateTrack(newData) {\n",
    "    drawTrack(newData);\n",
    "}\n",
    "\n",
    "// Example usage: update track dynamically\n",
    "setTimeout(() => {\n",
    "    const newTrackData = { ...trackData };\n",
    "    newTrackData.track.connections[1].length = 500;\n",
    "    updateTrack(newTrackData);\n",
    "}, 5000);"
   ]
  },
  {
   "cell_type": "code",
   "execution_count": null,
   "id": "60eae50d",
   "metadata": {},
   "outputs": [],
   "source": []
  }
 ],
 "metadata": {
  "kernelspec": {
   "display_name": "Python 3 (ipykernel)",
   "language": "python",
   "name": "python3"
  },
  "language_info": {
   "codemirror_mode": {
    "name": "ipython",
    "version": 3
   },
   "file_extension": ".py",
   "mimetype": "text/x-python",
   "name": "python",
   "nbconvert_exporter": "python",
   "pygments_lexer": "ipython3",
   "version": "3.11.2"
  }
 },
 "nbformat": 4,
 "nbformat_minor": 5
}
